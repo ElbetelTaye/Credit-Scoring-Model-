{
 "cells": [
  {
   "cell_type": "code",
   "execution_count": 1,
   "metadata": {},
   "outputs": [],
   "source": [
    "# Import necessary libraries\n",
    "import pandas as pd\n",
    "import numpy as np\n",
    "from sklearn.preprocessing import StandardScaler, MinMaxScaler\n",
    "import scorecardpy as sc"
   ]
  },
  {
   "cell_type": "code",
   "execution_count": null,
   "metadata": {},
   "outputs": [],
   "source": [
    "# Load your dataset (replace 'your_file.csv' with your actual file path)\n",
    "df = pd.read_csv('C:/Users/Administrator/Documents/kifiya/Week_6/cleaned_data.csv')"
   ]
  },
  {
   "cell_type": "markdown",
   "metadata": {},
   "source": [
    "## 1. Create Aggregate Features"
   ]
  },
  {
   "cell_type": "code",
   "execution_count": null,
   "metadata": {},
   "outputs": [],
   "source": [
    "# Total Transaction Amount per customer\n",
    "df['TotalTransactionAmount'] = df.groupby('CustomerId')['Amount'].transform('sum')\n",
    "\n",
    "# Average Transaction Amount per customer\n",
    "df['AverageTransactionAmount'] = df.groupby('CustomerId')['Amount'].transform('mean')\n",
    "\n",
    "# Transaction Count per customer\n",
    "df['TransactionCount'] = df.groupby('CustomerId')['TransactionId'].transform('count')\n",
    "\n",
    "# Standard Deviation of Transaction Amounts per customer\n",
    "df['TransactionAmountStd'] = df.groupby('CustomerId')['Amount'].transform('std').fillna(0)"
   ]
  },
  {
   "cell_type": "markdown",
   "metadata": {},
   "source": [
    "## 2. Extract Time-Based Features"
   ]
  },
  {
   "cell_type": "code",
   "execution_count": null,
   "metadata": {},
   "outputs": [],
   "source": [
    "df['TransactionStartTime'] = pd.to_datetime(df['TransactionStartTime'], errors='coerce')\n",
    "\n",
    "df['TransactionHour'] = df['TransactionStartTime'].dt.hour\n",
    "df['TransactionDay'] = df['TransactionStartTime'].dt.day\n",
    "df['TransactionMonth'] = df['TransactionStartTime'].dt.month\n",
    "df['TransactionYear'] = df['TransactionStartTime'].dt.year"
   ]
  },
  {
   "cell_type": "markdown",
   "metadata": {},
   "source": [
    "## 3. Encode Categorical Variables using WOE"
   ]
  },
  {
   "cell_type": "code",
   "execution_count": null,
   "metadata": {},
   "outputs": [],
   "source": [
    "# 3. Encode Categorical Variables using scorecardpy's WOE\n",
    "# ---------------------\n",
    "# Assuming 'FraudResult' is the target variable and 'ProductCategory', 'ProviderId', 'ChannelId' are the features\n",
    "features = ['ProductCategory', 'ProviderId', 'ChannelId']\n",
    "\n",
    "# Calculate the WOE and IV for each feature\n",
    "bins = sc.woebin(df, y='FraudResult', x=features)\n",
    "\n",
    "# Apply the WOE transformation to the dataset\n",
    "df_woe = sc.woebin_ply(df, bins)"
   ]
  },
  {
   "cell_type": "markdown",
   "metadata": {},
   "source": [
    "## 4. Handle Missing Values"
   ]
  },
  {
   "cell_type": "code",
   "execution_count": null,
   "metadata": {},
   "outputs": [],
   "source": [
    "# Fill missing numerical columns with median\n",
    "for col in ['Amount', 'Value', 'TotalTransactionAmount', 'AverageTransactionAmount', 'TransactionAmountStd']:\n",
    "    df_woe[col].fillna(df_woe[col].median(), inplace=True)\n",
    "\n",
    "# Fill missing categorical columns with mode\n",
    "for col in ['ProductCategory', 'CurrencyCode', 'ProviderId', 'ChannelId']:\n",
    "    df_woe[col].fillna(df_woe[col].mode()[0], inplace=True)\n"
   ]
  },
  {
   "cell_type": "markdown",
   "metadata": {},
   "source": [
    "## 5. Normalize/Standardize Numerical Features"
   ]
  },
  {
   "cell_type": "code",
   "execution_count": null,
   "metadata": {},
   "outputs": [],
   "source": [
    "# Standardize (mean=0, std=1) the numerical features\n",
    "scaler = StandardScaler()\n",
    "df_woe[['Amount', 'Value', 'TotalTransactionAmount', 'AverageTransactionAmount', 'TransactionAmountStd']] = scaler.fit_transform(\n",
    "    df_woe[['Amount', 'Value', 'TotalTransactionAmount', 'AverageTransactionAmount', 'TransactionAmountStd']]\n",
    ")"
   ]
  },
  {
   "cell_type": "code",
   "execution_count": null,
   "metadata": {},
   "outputs": [],
   "source": [
    "# Final check of the dataset\n",
    "print(df_woe.head())"
   ]
  },
  {
   "cell_type": "code",
   "execution_count": null,
   "metadata": {},
   "outputs": [],
   "source": [
    "# Save the processed dataset to CSV (optional)\n",
    "df_woe.to_csv('C:/Users/Administrator/Documents/kifiya/Week_6/processed_data.csv', index=False)"
   ]
  }
 ],
 "metadata": {
  "kernelspec": {
   "display_name": "jojo",
   "language": "python",
   "name": "python3"
  },
  "language_info": {
   "codemirror_mode": {
    "name": "ipython",
    "version": 3
   },
   "file_extension": ".py",
   "mimetype": "text/x-python",
   "name": "python",
   "nbconvert_exporter": "python",
   "pygments_lexer": "ipython3",
   "version": "3.9.20"
  }
 },
 "nbformat": 4,
 "nbformat_minor": 2
}
