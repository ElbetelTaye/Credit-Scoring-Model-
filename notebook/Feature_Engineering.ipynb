{
 "cells": [
  {
   "cell_type": "code",
   "execution_count": 1,
   "metadata": {},
   "outputs": [],
   "source": [
    "# Import necessary libraries\n",
    "import pandas as pd\n",
    "import numpy as np\n",
    "from sklearn.preprocessing import StandardScaler, MinMaxScaler\n",
    "import scorecardpy as sc"
   ]
  },
  {
   "cell_type": "code",
   "execution_count": 2,
   "metadata": {},
   "outputs": [],
   "source": [
    "# Load your dataset (replace 'your_file.csv' with your actual file path)\n",
    "df = pd.read_csv('C:/Users/elbet/OneDrive/Desktop/Ten/week-6/github-notebook/Credit-Scoring-Model-/data/data/cleaned_data.csv')"
   ]
  },
  {
   "cell_type": "markdown",
   "metadata": {},
   "source": [
    "## 1. Create Aggregate Features"
   ]
  },
  {
   "cell_type": "code",
   "execution_count": 3,
   "metadata": {},
   "outputs": [],
   "source": [
    "# Total Transaction Amount per customer\n",
    "df['TotalTransactionAmount'] = df.groupby('CustomerId')['Amount'].transform('sum')\n",
    "\n",
    "# Average Transaction Amount per customer\n",
    "df['AverageTransactionAmount'] = df.groupby('CustomerId')['Amount'].transform('mean')\n",
    "\n",
    "# Transaction Count per customer\n",
    "df['TransactionCount'] = df.groupby('CustomerId')['TransactionId'].transform('count')\n",
    "\n",
    "# Standard Deviation of Transaction Amounts per customer\n",
    "df['TransactionAmountStd'] = df.groupby('CustomerId')['Amount'].transform('std').fillna(0)"
   ]
  },
  {
   "cell_type": "markdown",
   "metadata": {},
   "source": [
    "## 2. Extract Time-Based Features"
   ]
  },
  {
   "cell_type": "code",
   "execution_count": 4,
   "metadata": {},
   "outputs": [],
   "source": [
    "df['TransactionStartTime'] = pd.to_datetime(df['TransactionStartTime'], errors='coerce')\n",
    "df['TransactionHour'] = df['TransactionStartTime'].dt.hour\n",
    "df['TransactionDay'] = df['TransactionStartTime'].dt.day\n",
    "df['TransactionMonth'] = df['TransactionStartTime'].dt.month\n",
    "df['TransactionYear'] = df['TransactionStartTime'].dt.year"
   ]
  },
  {
   "cell_type": "markdown",
   "metadata": {},
   "source": [
    "## 3. Encode Categorical Variables using WOE"
   ]
  },
  {
   "cell_type": "code",
   "execution_count": 5,
   "metadata": {},
   "outputs": [
    {
     "name": "stdout",
     "output_type": "stream",
     "text": [
      "[INFO] creating woe binning ...\n"
     ]
    },
    {
     "name": "stderr",
     "output_type": "stream",
     "text": [
      "c:\\Users\\elbet\\miniconda3\\envs\\elbetel\\lib\\site-packages\\scorecardpy\\condition_fun.py:40: FutureWarning: errors='ignore' is deprecated and will raise in a future version. Use to_numeric without passing `errors` and catch exceptions explicitly instead\n",
      "  datetime_cols = dat.apply(pd.to_numeric,errors='ignore').select_dtypes(object).apply(pd.to_datetime,errors='ignore').select_dtypes('datetime64').columns.tolist()\n",
      "c:\\Users\\elbet\\miniconda3\\envs\\elbetel\\lib\\site-packages\\scorecardpy\\condition_fun.py:40: FutureWarning: errors='ignore' is deprecated and will raise in a future version. Use to_datetime without passing `errors` and catch exceptions explicitly instead\n",
      "  datetime_cols = dat.apply(pd.to_numeric,errors='ignore').select_dtypes(object).apply(pd.to_datetime,errors='ignore').select_dtypes('datetime64').columns.tolist()\n",
      "c:\\Users\\elbet\\miniconda3\\envs\\elbetel\\lib\\site-packages\\scorecardpy\\condition_fun.py:40: UserWarning: Could not infer format, so each element will be parsed individually, falling back to `dateutil`. To ensure parsing is consistent and as-expected, please specify a format.\n",
      "  datetime_cols = dat.apply(pd.to_numeric,errors='ignore').select_dtypes(object).apply(pd.to_datetime,errors='ignore').select_dtypes('datetime64').columns.tolist()\n",
      "c:\\Users\\elbet\\miniconda3\\envs\\elbetel\\lib\\site-packages\\scorecardpy\\condition_fun.py:40: FutureWarning: errors='ignore' is deprecated and will raise in a future version. Use to_datetime without passing `errors` and catch exceptions explicitly instead\n",
      "  datetime_cols = dat.apply(pd.to_numeric,errors='ignore').select_dtypes(object).apply(pd.to_datetime,errors='ignore').select_dtypes('datetime64').columns.tolist()\n",
      "c:\\Users\\elbet\\miniconda3\\envs\\elbetel\\lib\\site-packages\\scorecardpy\\condition_fun.py:40: UserWarning: Could not infer format, so each element will be parsed individually, falling back to `dateutil`. To ensure parsing is consistent and as-expected, please specify a format.\n",
      "  datetime_cols = dat.apply(pd.to_numeric,errors='ignore').select_dtypes(object).apply(pd.to_datetime,errors='ignore').select_dtypes('datetime64').columns.tolist()\n",
      "c:\\Users\\elbet\\miniconda3\\envs\\elbetel\\lib\\site-packages\\scorecardpy\\condition_fun.py:40: FutureWarning: errors='ignore' is deprecated and will raise in a future version. Use to_datetime without passing `errors` and catch exceptions explicitly instead\n",
      "  datetime_cols = dat.apply(pd.to_numeric,errors='ignore').select_dtypes(object).apply(pd.to_datetime,errors='ignore').select_dtypes('datetime64').columns.tolist()\n",
      "c:\\Users\\elbet\\miniconda3\\envs\\elbetel\\lib\\site-packages\\scorecardpy\\condition_fun.py:40: UserWarning: Could not infer format, so each element will be parsed individually, falling back to `dateutil`. To ensure parsing is consistent and as-expected, please specify a format.\n",
      "  datetime_cols = dat.apply(pd.to_numeric,errors='ignore').select_dtypes(object).apply(pd.to_datetime,errors='ignore').select_dtypes('datetime64').columns.tolist()\n",
      "c:\\Users\\elbet\\miniconda3\\envs\\elbetel\\lib\\site-packages\\scorecardpy\\woebin.py:361: FutureWarning: The provided callable <built-in function sum> is currently using SeriesGroupBy.sum. In a future version of pandas, the provided callable will be used directly. To keep current behavior pass the string \"sum\" instead.\n",
      "  init_bin = init_bin.groupby('brkp', group_keys=False).agg({\n",
      "c:\\Users\\elbet\\miniconda3\\envs\\elbetel\\lib\\site-packages\\scorecardpy\\woebin.py:361: FutureWarning: The provided callable <built-in function sum> is currently using SeriesGroupBy.sum. In a future version of pandas, the provided callable will be used directly. To keep current behavior pass the string \"sum\" instead.\n",
      "  init_bin = init_bin.groupby('brkp', group_keys=False).agg({\n",
      "c:\\Users\\elbet\\miniconda3\\envs\\elbetel\\lib\\site-packages\\scorecardpy\\woebin.py:361: FutureWarning: The provided callable <built-in function sum> is currently using SeriesGroupBy.sum. In a future version of pandas, the provided callable will be used directly. To keep current behavior pass the string \"sum\" instead.\n",
      "  init_bin = init_bin.groupby('brkp', group_keys=False).agg({\n",
      "c:\\Users\\elbet\\miniconda3\\envs\\elbetel\\lib\\site-packages\\scorecardpy\\woebin.py:361: FutureWarning: The provided callable <built-in function sum> is currently using SeriesGroupBy.sum. In a future version of pandas, the provided callable will be used directly. To keep current behavior pass the string \"sum\" instead.\n",
      "  init_bin = init_bin.groupby('brkp', group_keys=False).agg({\n",
      "c:\\Users\\elbet\\miniconda3\\envs\\elbetel\\lib\\site-packages\\scorecardpy\\woebin.py:361: FutureWarning: The provided callable <built-in function sum> is currently using SeriesGroupBy.sum. In a future version of pandas, the provided callable will be used directly. To keep current behavior pass the string \"sum\" instead.\n",
      "  init_bin = init_bin.groupby('brkp', group_keys=False).agg({\n",
      "c:\\Users\\elbet\\miniconda3\\envs\\elbetel\\lib\\site-packages\\scorecardpy\\woebin.py:410: FutureWarning: The provided callable <built-in function sum> is currently using SeriesGroupBy.sum. In a future version of pandas, the provided callable will be used directly. To keep current behavior pass the string \"sum\" instead.\n",
      "  total_iv_all_brks = pd.melt(\n",
      "c:\\Users\\elbet\\miniconda3\\envs\\elbetel\\lib\\site-packages\\scorecardpy\\woebin.py:410: FutureWarning: The provided callable <built-in function sum> is currently using SeriesGroupBy.sum. In a future version of pandas, the provided callable will be used directly. To keep current behavior pass the string \"sum\" instead.\n",
      "  total_iv_all_brks = pd.melt(\n",
      "c:\\Users\\elbet\\miniconda3\\envs\\elbetel\\lib\\site-packages\\scorecardpy\\woebin.py:446: FutureWarning: The default of observed=False is deprecated and will be changed to True in a future version of pandas. Pass observed=False to retain current behavior or observed=True to adopt the future default and silence this warning.\n",
      "  binning_1bst_brk = binning_1bst_brk.groupby(['variable', 'bstbin'], group_keys=False)\\\n",
      "c:\\Users\\elbet\\miniconda3\\envs\\elbetel\\lib\\site-packages\\scorecardpy\\woebin.py:446: FutureWarning: The provided callable <built-in function sum> is currently using SeriesGroupBy.sum. In a future version of pandas, the provided callable will be used directly. To keep current behavior pass the string \"sum\" instead.\n",
      "  binning_1bst_brk = binning_1bst_brk.groupby(['variable', 'bstbin'], group_keys=False)\\\n",
      "c:\\Users\\elbet\\miniconda3\\envs\\elbetel\\lib\\site-packages\\scorecardpy\\woebin.py:446: FutureWarning: The provided callable <built-in function sum> is currently using SeriesGroupBy.sum. In a future version of pandas, the provided callable will be used directly. To keep current behavior pass the string \"sum\" instead.\n",
      "  binning_1bst_brk = binning_1bst_brk.groupby(['variable', 'bstbin'], group_keys=False)\\\n",
      "c:\\Users\\elbet\\miniconda3\\envs\\elbetel\\lib\\site-packages\\scorecardpy\\woebin.py:410: FutureWarning: The provided callable <built-in function sum> is currently using SeriesGroupBy.sum. In a future version of pandas, the provided callable will be used directly. To keep current behavior pass the string \"sum\" instead.\n",
      "  total_iv_all_brks = pd.melt(\n",
      "c:\\Users\\elbet\\miniconda3\\envs\\elbetel\\lib\\site-packages\\scorecardpy\\woebin.py:410: FutureWarning: The provided callable <built-in function sum> is currently using SeriesGroupBy.sum. In a future version of pandas, the provided callable will be used directly. To keep current behavior pass the string \"sum\" instead.\n",
      "  total_iv_all_brks = pd.melt(\n",
      "c:\\Users\\elbet\\miniconda3\\envs\\elbetel\\lib\\site-packages\\scorecardpy\\woebin.py:446: FutureWarning: The default of observed=False is deprecated and will be changed to True in a future version of pandas. Pass observed=False to retain current behavior or observed=True to adopt the future default and silence this warning.\n",
      "  binning_1bst_brk = binning_1bst_brk.groupby(['variable', 'bstbin'], group_keys=False)\\\n",
      "c:\\Users\\elbet\\miniconda3\\envs\\elbetel\\lib\\site-packages\\scorecardpy\\woebin.py:446: FutureWarning: The provided callable <built-in function sum> is currently using SeriesGroupBy.sum. In a future version of pandas, the provided callable will be used directly. To keep current behavior pass the string \"sum\" instead.\n",
      "  binning_1bst_brk = binning_1bst_brk.groupby(['variable', 'bstbin'], group_keys=False)\\\n",
      "c:\\Users\\elbet\\miniconda3\\envs\\elbetel\\lib\\site-packages\\scorecardpy\\woebin.py:446: FutureWarning: The provided callable <built-in function sum> is currently using SeriesGroupBy.sum. In a future version of pandas, the provided callable will be used directly. To keep current behavior pass the string \"sum\" instead.\n",
      "  binning_1bst_brk = binning_1bst_brk.groupby(['variable', 'bstbin'], group_keys=False)\\\n",
      "c:\\Users\\elbet\\miniconda3\\envs\\elbetel\\lib\\site-packages\\scorecardpy\\woebin.py:361: FutureWarning: The provided callable <built-in function sum> is currently using SeriesGroupBy.sum. In a future version of pandas, the provided callable will be used directly. To keep current behavior pass the string \"sum\" instead.\n",
      "  init_bin = init_bin.groupby('brkp', group_keys=False).agg({\n",
      "c:\\Users\\elbet\\miniconda3\\envs\\elbetel\\lib\\site-packages\\scorecardpy\\woebin.py:410: FutureWarning: The provided callable <built-in function sum> is currently using SeriesGroupBy.sum. In a future version of pandas, the provided callable will be used directly. To keep current behavior pass the string \"sum\" instead.\n",
      "  total_iv_all_brks = pd.melt(\n",
      "c:\\Users\\elbet\\miniconda3\\envs\\elbetel\\lib\\site-packages\\scorecardpy\\woebin.py:410: FutureWarning: The provided callable <built-in function sum> is currently using SeriesGroupBy.sum. In a future version of pandas, the provided callable will be used directly. To keep current behavior pass the string \"sum\" instead.\n",
      "  total_iv_all_brks = pd.melt(\n",
      "c:\\Users\\elbet\\miniconda3\\envs\\elbetel\\lib\\site-packages\\scorecardpy\\woebin.py:446: FutureWarning: The default of observed=False is deprecated and will be changed to True in a future version of pandas. Pass observed=False to retain current behavior or observed=True to adopt the future default and silence this warning.\n",
      "  binning_1bst_brk = binning_1bst_brk.groupby(['variable', 'bstbin'], group_keys=False)\\\n",
      "c:\\Users\\elbet\\miniconda3\\envs\\elbetel\\lib\\site-packages\\scorecardpy\\woebin.py:446: FutureWarning: The provided callable <built-in function sum> is currently using SeriesGroupBy.sum. In a future version of pandas, the provided callable will be used directly. To keep current behavior pass the string \"sum\" instead.\n",
      "  binning_1bst_brk = binning_1bst_brk.groupby(['variable', 'bstbin'], group_keys=False)\\\n",
      "c:\\Users\\elbet\\miniconda3\\envs\\elbetel\\lib\\site-packages\\scorecardpy\\woebin.py:446: FutureWarning: The provided callable <built-in function sum> is currently using SeriesGroupBy.sum. In a future version of pandas, the provided callable will be used directly. To keep current behavior pass the string \"sum\" instead.\n",
      "  binning_1bst_brk = binning_1bst_brk.groupby(['variable', 'bstbin'], group_keys=False)\\\n",
      "c:\\Users\\elbet\\miniconda3\\envs\\elbetel\\lib\\site-packages\\scorecardpy\\woebin.py:410: FutureWarning: The provided callable <built-in function sum> is currently using SeriesGroupBy.sum. In a future version of pandas, the provided callable will be used directly. To keep current behavior pass the string \"sum\" instead.\n",
      "  total_iv_all_brks = pd.melt(\n",
      "c:\\Users\\elbet\\miniconda3\\envs\\elbetel\\lib\\site-packages\\scorecardpy\\woebin.py:410: FutureWarning: The provided callable <built-in function sum> is currently using SeriesGroupBy.sum. In a future version of pandas, the provided callable will be used directly. To keep current behavior pass the string \"sum\" instead.\n",
      "  total_iv_all_brks = pd.melt(\n",
      "c:\\Users\\elbet\\miniconda3\\envs\\elbetel\\lib\\site-packages\\scorecardpy\\woebin.py:446: FutureWarning: The default of observed=False is deprecated and will be changed to True in a future version of pandas. Pass observed=False to retain current behavior or observed=True to adopt the future default and silence this warning.\n",
      "  binning_1bst_brk = binning_1bst_brk.groupby(['variable', 'bstbin'], group_keys=False)\\\n",
      "c:\\Users\\elbet\\miniconda3\\envs\\elbetel\\lib\\site-packages\\scorecardpy\\woebin.py:446: FutureWarning: The provided callable <built-in function sum> is currently using SeriesGroupBy.sum. In a future version of pandas, the provided callable will be used directly. To keep current behavior pass the string \"sum\" instead.\n",
      "  binning_1bst_brk = binning_1bst_brk.groupby(['variable', 'bstbin'], group_keys=False)\\\n",
      "c:\\Users\\elbet\\miniconda3\\envs\\elbetel\\lib\\site-packages\\scorecardpy\\woebin.py:446: FutureWarning: The provided callable <built-in function sum> is currently using SeriesGroupBy.sum. In a future version of pandas, the provided callable will be used directly. To keep current behavior pass the string \"sum\" instead.\n",
      "  binning_1bst_brk = binning_1bst_brk.groupby(['variable', 'bstbin'], group_keys=False)\\\n",
      "c:\\Users\\elbet\\miniconda3\\envs\\elbetel\\lib\\site-packages\\scorecardpy\\woebin.py:361: FutureWarning: The provided callable <built-in function sum> is currently using SeriesGroupBy.sum. In a future version of pandas, the provided callable will be used directly. To keep current behavior pass the string \"sum\" instead.\n",
      "  init_bin = init_bin.groupby('brkp', group_keys=False).agg({\n",
      "c:\\Users\\elbet\\miniconda3\\envs\\elbetel\\lib\\site-packages\\scorecardpy\\woebin.py:410: FutureWarning: The provided callable <built-in function sum> is currently using SeriesGroupBy.sum. In a future version of pandas, the provided callable will be used directly. To keep current behavior pass the string \"sum\" instead.\n",
      "  total_iv_all_brks = pd.melt(\n",
      "c:\\Users\\elbet\\miniconda3\\envs\\elbetel\\lib\\site-packages\\scorecardpy\\woebin.py:410: FutureWarning: The provided callable <built-in function sum> is currently using SeriesGroupBy.sum. In a future version of pandas, the provided callable will be used directly. To keep current behavior pass the string \"sum\" instead.\n",
      "  total_iv_all_brks = pd.melt(\n",
      "c:\\Users\\elbet\\miniconda3\\envs\\elbetel\\lib\\site-packages\\scorecardpy\\woebin.py:446: FutureWarning: The default of observed=False is deprecated and will be changed to True in a future version of pandas. Pass observed=False to retain current behavior or observed=True to adopt the future default and silence this warning.\n",
      "  binning_1bst_brk = binning_1bst_brk.groupby(['variable', 'bstbin'], group_keys=False)\\\n",
      "c:\\Users\\elbet\\miniconda3\\envs\\elbetel\\lib\\site-packages\\scorecardpy\\woebin.py:446: FutureWarning: The provided callable <built-in function sum> is currently using SeriesGroupBy.sum. In a future version of pandas, the provided callable will be used directly. To keep current behavior pass the string \"sum\" instead.\n",
      "  binning_1bst_brk = binning_1bst_brk.groupby(['variable', 'bstbin'], group_keys=False)\\\n",
      "c:\\Users\\elbet\\miniconda3\\envs\\elbetel\\lib\\site-packages\\scorecardpy\\woebin.py:446: FutureWarning: The provided callable <built-in function sum> is currently using SeriesGroupBy.sum. In a future version of pandas, the provided callable will be used directly. To keep current behavior pass the string \"sum\" instead.\n",
      "  binning_1bst_brk = binning_1bst_brk.groupby(['variable', 'bstbin'], group_keys=False)\\\n",
      "c:\\Users\\elbet\\miniconda3\\envs\\elbetel\\lib\\site-packages\\scorecardpy\\woebin.py:410: FutureWarning: The provided callable <built-in function sum> is currently using SeriesGroupBy.sum. In a future version of pandas, the provided callable will be used directly. To keep current behavior pass the string \"sum\" instead.\n",
      "  total_iv_all_brks = pd.melt(\n",
      "c:\\Users\\elbet\\miniconda3\\envs\\elbetel\\lib\\site-packages\\scorecardpy\\woebin.py:410: FutureWarning: The provided callable <built-in function sum> is currently using SeriesGroupBy.sum. In a future version of pandas, the provided callable will be used directly. To keep current behavior pass the string \"sum\" instead.\n",
      "  total_iv_all_brks = pd.melt(\n",
      "c:\\Users\\elbet\\miniconda3\\envs\\elbetel\\lib\\site-packages\\scorecardpy\\woebin.py:446: FutureWarning: The default of observed=False is deprecated and will be changed to True in a future version of pandas. Pass observed=False to retain current behavior or observed=True to adopt the future default and silence this warning.\n",
      "  binning_1bst_brk = binning_1bst_brk.groupby(['variable', 'bstbin'], group_keys=False)\\\n",
      "c:\\Users\\elbet\\miniconda3\\envs\\elbetel\\lib\\site-packages\\scorecardpy\\woebin.py:446: FutureWarning: The provided callable <built-in function sum> is currently using SeriesGroupBy.sum. In a future version of pandas, the provided callable will be used directly. To keep current behavior pass the string \"sum\" instead.\n",
      "  binning_1bst_brk = binning_1bst_brk.groupby(['variable', 'bstbin'], group_keys=False)\\\n",
      "c:\\Users\\elbet\\miniconda3\\envs\\elbetel\\lib\\site-packages\\scorecardpy\\woebin.py:446: FutureWarning: The provided callable <built-in function sum> is currently using SeriesGroupBy.sum. In a future version of pandas, the provided callable will be used directly. To keep current behavior pass the string \"sum\" instead.\n",
      "  binning_1bst_brk = binning_1bst_brk.groupby(['variable', 'bstbin'], group_keys=False)\\\n"
     ]
    },
    {
     "name": "stdout",
     "output_type": "stream",
     "text": [
      "[INFO] converting into woe values ...\n"
     ]
    }
   ],
   "source": [
    "# 3. Encode Categorical Variables using scorecardpy's WOE\n",
    "# ---------------------\n",
    "# Assuming 'FraudResult' is the target variable and 'ProductCategory', 'ProviderId', 'ChannelId' are the features\n",
    "features = ['ProductCategory', 'ProviderId', 'ChannelId']\n",
    "\n",
    "# Calculate the WOE and IV for each feature\n",
    "bins = sc.woebin(df, y='FraudResult', x=features)\n",
    "\n",
    "# Apply the WOE transformation to the dataset\n",
    "df_woe = sc.woebin_ply(df, bins)"
   ]
  },
  {
   "cell_type": "code",
   "execution_count": 8,
   "metadata": {},
   "outputs": [
    {
     "name": "stdout",
     "output_type": "stream",
     "text": [
      "Index(['AverageTransactionAmount', 'CountryCode', 'TransactionYear',\n",
      "       'TransactionStartTime', 'TransactionAmountStd',\n",
      "       'TotalTransactionAmount', 'TransactionMonth', 'CustomerId', 'Amount',\n",
      "       'FraudResult', 'TransactionId', 'TransactionCount', 'Value',\n",
      "       'TransactionDay', 'ProductId', 'SubscriptionId', 'CurrencyCode',\n",
      "       'PricingStrategy', 'AccountId', 'BatchId', 'TransactionHour',\n",
      "       'ProviderId_woe', 'ProductCategory_woe', 'ChannelId_woe'],\n",
      "      dtype='object')\n"
     ]
    }
   ],
   "source": [
    "print(df_woe.columns)"
   ]
  },
  {
   "cell_type": "markdown",
   "metadata": {},
   "source": [
    "## 4. Handle Missing Values"
   ]
  },
  {
   "cell_type": "code",
   "execution_count": 9,
   "metadata": {},
   "outputs": [
    {
     "name": "stderr",
     "output_type": "stream",
     "text": [
      "C:\\Users\\elbet\\AppData\\Local\\Temp\\ipykernel_25476\\1868837317.py:3: FutureWarning: A value is trying to be set on a copy of a DataFrame or Series through chained assignment using an inplace method.\n",
      "The behavior will change in pandas 3.0. This inplace method will never work because the intermediate object on which we are setting values always behaves as a copy.\n",
      "\n",
      "For example, when doing 'df[col].method(value, inplace=True)', try using 'df.method({col: value}, inplace=True)' or df[col] = df[col].method(value) instead, to perform the operation inplace on the original object.\n",
      "\n",
      "\n",
      "  df_woe[col].fillna(df_woe[col].median(), inplace=True)\n",
      "C:\\Users\\elbet\\AppData\\Local\\Temp\\ipykernel_25476\\1868837317.py:7: FutureWarning: A value is trying to be set on a copy of a DataFrame or Series through chained assignment using an inplace method.\n",
      "The behavior will change in pandas 3.0. This inplace method will never work because the intermediate object on which we are setting values always behaves as a copy.\n",
      "\n",
      "For example, when doing 'df[col].method(value, inplace=True)', try using 'df.method({col: value}, inplace=True)' or df[col] = df[col].method(value) instead, to perform the operation inplace on the original object.\n",
      "\n",
      "\n",
      "  df_woe[col].fillna(df_woe[col].mode()[0], inplace=True)\n"
     ]
    }
   ],
   "source": [
    "# Fill missing numerical columns with median\n",
    "for col in ['Amount', 'Value', 'TotalTransactionAmount', 'AverageTransactionAmount', 'TransactionAmountStd']:\n",
    "    df_woe[col].fillna(df_woe[col].median(), inplace=True)\n",
    "\n",
    "# Handle missing values for categorical WOE columns\n",
    "for col in ['ProductCategory_woe', 'CurrencyCode', 'ProviderId_woe', 'ChannelId_woe']:\n",
    "    df_woe[col].fillna(df_woe[col].mode()[0], inplace=True)\n",
    "\n"
   ]
  },
  {
   "cell_type": "markdown",
   "metadata": {},
   "source": [
    "## 5. Normalize/Standardize Numerical Features"
   ]
  },
  {
   "cell_type": "code",
   "execution_count": 10,
   "metadata": {},
   "outputs": [],
   "source": [
    "# Standardize (mean=0, std=1) the numerical features\n",
    "scaler = StandardScaler()\n",
    "df_woe[['Amount', 'Value', 'TotalTransactionAmount', 'AverageTransactionAmount', 'TransactionAmountStd']] = scaler.fit_transform(\n",
    "    df_woe[['Amount', 'Value', 'TotalTransactionAmount', 'AverageTransactionAmount', 'TransactionAmountStd']]\n",
    ")"
   ]
  },
  {
   "cell_type": "code",
   "execution_count": 11,
   "metadata": {},
   "outputs": [
    {
     "name": "stdout",
     "output_type": "stream",
     "text": [
      "   AverageTransactionAmount  CountryCode  TransactionYear  \\\n",
      "0                 -0.067623          256             2018   \n",
      "1                 -0.067623          256             2018   \n",
      "2                 -0.072568          256             2018   \n",
      "3                 -0.008155          256             2018   \n",
      "4                 -0.008155          256             2018   \n",
      "\n",
      "       TransactionStartTime  TransactionAmountStd  TotalTransactionAmount  \\\n",
      "0 2018-11-15 02:18:49+00:00             -0.167016                0.170118   \n",
      "1 2018-11-15 02:19:08+00:00             -0.167016                0.170118   \n",
      "2 2018-11-15 02:44:21+00:00             -0.201209                0.165122   \n",
      "3 2018-11-15 03:32:55+00:00             -0.008243                0.175567   \n",
      "4 2018-11-15 03:34:21+00:00             -0.008243                0.175567   \n",
      "\n",
      "   TransactionMonth       CustomerId    Amount  FraudResult  ...  \\\n",
      "0                11  CustomerId_4406 -0.046371            0  ...   \n",
      "1                11  CustomerId_4406 -0.054643            0  ...   \n",
      "2                11  CustomerId_4683 -0.050426            0  ...   \n",
      "3                11   CustomerId_988  0.107717            0  ...   \n",
      "4                11   CustomerId_988 -0.059704            0  ...   \n",
      "\n",
      "      ProductId       SubscriptionId  CurrencyCode  PricingStrategy  \\\n",
      "0  ProductId_10   SubscriptionId_887           UGX                2   \n",
      "1   ProductId_6  SubscriptionId_3829           UGX                2   \n",
      "2   ProductId_1   SubscriptionId_222           UGX                2   \n",
      "3  ProductId_21  SubscriptionId_2185           UGX                2   \n",
      "4   ProductId_6  SubscriptionId_3829           UGX                2   \n",
      "\n",
      "        AccountId         BatchId TransactionHour  ProviderId_woe  \\\n",
      "0  AccountId_3957   BatchId_36123               2       -2.906446   \n",
      "1  AccountId_4841   BatchId_15642               2       -2.906446   \n",
      "2  AccountId_4229   BatchId_53941               2       -2.906446   \n",
      "3   AccountId_648  BatchId_102363               3        1.939442   \n",
      "4  AccountId_4841   BatchId_38780               3       -2.906446   \n",
      "\n",
      "  ProductCategory_woe ChannelId_woe  \n",
      "0           -1.690824      0.484515  \n",
      "1            0.607033     -2.736867  \n",
      "2           -1.690824      0.484515  \n",
      "3            0.607033      0.484515  \n",
      "4            0.607033     -2.736867  \n",
      "\n",
      "[5 rows x 24 columns]\n"
     ]
    }
   ],
   "source": [
    "# Final check of the dataset\n",
    "print(df_woe.head())"
   ]
  },
  {
   "cell_type": "code",
   "execution_count": 12,
   "metadata": {},
   "outputs": [],
   "source": [
    "# Save the processed dataset to CSV (optional)\n",
    "df_woe.to_csv('C:/Users/elbet/OneDrive/Desktop/Ten/week-6/github-notebook/Credit-Scoring-Model-/data/data/processed_data.csv', index=False)"
   ]
  }
 ],
 "metadata": {
  "kernelspec": {
   "display_name": "jojo",
   "language": "python",
   "name": "python3"
  },
  "language_info": {
   "codemirror_mode": {
    "name": "ipython",
    "version": 3
   },
   "file_extension": ".py",
   "mimetype": "text/x-python",
   "name": "python",
   "nbconvert_exporter": "python",
   "pygments_lexer": "ipython3",
   "version": "3.9.20"
  }
 },
 "nbformat": 4,
 "nbformat_minor": 2
}
